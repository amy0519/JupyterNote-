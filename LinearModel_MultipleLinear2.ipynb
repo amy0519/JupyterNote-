{
 "cells": [
  {
   "cell_type": "code",
   "execution_count": 1,
   "metadata": {},
   "outputs": [],
   "source": [
    "import numpy as np\n",
    "import pandas as pd\n",
    "import matplotlib.pyplot as plt\n",
    "import seaborn as sns; sns.set()\n"
   ]
  },
  {
   "cell_type": "code",
   "execution_count": 2,
   "metadata": {},
   "outputs": [],
   "source": [
    "import pandas as pd\n",
    "import numpy as np\n",
    "\n",
    "df = pd.read_excel('test2.xlsx')"
   ]
  },
  {
   "cell_type": "code",
   "execution_count": 3,
   "metadata": {},
   "outputs": [
    {
     "data": {
      "text/html": [
       "<div>\n",
       "<style scoped>\n",
       "    .dataframe tbody tr th:only-of-type {\n",
       "        vertical-align: middle;\n",
       "    }\n",
       "\n",
       "    .dataframe tbody tr th {\n",
       "        vertical-align: top;\n",
       "    }\n",
       "\n",
       "    .dataframe thead th {\n",
       "        text-align: right;\n",
       "    }\n",
       "</style>\n",
       "<table border=\"1\" class=\"dataframe\">\n",
       "  <thead>\n",
       "    <tr style=\"text-align: right;\">\n",
       "      <th></th>\n",
       "      <th>頻道名稱</th>\n",
       "      <th>頻道收入</th>\n",
       "      <th>訂閱數</th>\n",
       "      <th>近一週總觀看數</th>\n",
       "      <th>近一週總留言數</th>\n",
       "      <th>近一週總按讚數</th>\n",
       "      <th>近一週觀看成長數</th>\n",
       "    </tr>\n",
       "  </thead>\n",
       "  <tbody>\n",
       "    <tr>\n",
       "      <th>0</th>\n",
       "      <td>蔡淘貴</td>\n",
       "      <td>400000</td>\n",
       "      <td>873000</td>\n",
       "      <td>1420000</td>\n",
       "      <td>1500</td>\n",
       "      <td>37000</td>\n",
       "      <td>267550</td>\n",
       "    </tr>\n",
       "    <tr>\n",
       "      <th>1</th>\n",
       "      <td>蔡阿嘎</td>\n",
       "      <td>350000</td>\n",
       "      <td>2460000</td>\n",
       "      <td>800000</td>\n",
       "      <td>1800</td>\n",
       "      <td>13000</td>\n",
       "      <td>116041</td>\n",
       "    </tr>\n",
       "    <tr>\n",
       "      <th>2</th>\n",
       "      <td>台灣大胃王丁丁/Ding-Ding</td>\n",
       "      <td>220000</td>\n",
       "      <td>752000</td>\n",
       "      <td>580000</td>\n",
       "      <td>2273</td>\n",
       "      <td>10000</td>\n",
       "      <td>568738</td>\n",
       "    </tr>\n",
       "    <tr>\n",
       "      <th>3</th>\n",
       "      <td>本本</td>\n",
       "      <td>50000</td>\n",
       "      <td>64400</td>\n",
       "      <td>380000</td>\n",
       "      <td>751</td>\n",
       "      <td>7700</td>\n",
       "      <td>-227756</td>\n",
       "    </tr>\n",
       "    <tr>\n",
       "      <th>4</th>\n",
       "      <td>阿滴英文</td>\n",
       "      <td>150000</td>\n",
       "      <td>2640000</td>\n",
       "      <td>50000</td>\n",
       "      <td>351</td>\n",
       "      <td>3333</td>\n",
       "      <td>235703</td>\n",
       "    </tr>\n",
       "    <tr>\n",
       "      <th>5</th>\n",
       "      <td>這群人TGOP</td>\n",
       "      <td>500000</td>\n",
       "      <td>3330000</td>\n",
       "      <td>2900000</td>\n",
       "      <td>2520</td>\n",
       "      <td>30000</td>\n",
       "      <td>-1114973</td>\n",
       "    </tr>\n",
       "    <tr>\n",
       "      <th>6</th>\n",
       "      <td>Joeman</td>\n",
       "      <td>759353</td>\n",
       "      <td>1910000</td>\n",
       "      <td>2748289</td>\n",
       "      <td>1157</td>\n",
       "      <td>36475</td>\n",
       "      <td>-4533</td>\n",
       "    </tr>\n",
       "    <tr>\n",
       "      <th>7</th>\n",
       "      <td>古娃娃WawaKu</td>\n",
       "      <td>250000</td>\n",
       "      <td>925000</td>\n",
       "      <td>199390</td>\n",
       "      <td>349</td>\n",
       "      <td>2302</td>\n",
       "      <td>79673</td>\n",
       "    </tr>\n",
       "    <tr>\n",
       "      <th>8</th>\n",
       "      <td>千千進食中</td>\n",
       "      <td>880000</td>\n",
       "      <td>1520000</td>\n",
       "      <td>1238720</td>\n",
       "      <td>1816</td>\n",
       "      <td>23000</td>\n",
       "      <td>246081</td>\n",
       "    </tr>\n",
       "    <tr>\n",
       "      <th>9</th>\n",
       "      <td>白癡公主</td>\n",
       "      <td>270000</td>\n",
       "      <td>1440000</td>\n",
       "      <td>1457186</td>\n",
       "      <td>1122</td>\n",
       "      <td>19533</td>\n",
       "      <td>847308</td>\n",
       "    </tr>\n",
       "    <tr>\n",
       "      <th>10</th>\n",
       "      <td>the劉沛</td>\n",
       "      <td>143100</td>\n",
       "      <td>1130000</td>\n",
       "      <td>417440</td>\n",
       "      <td>255</td>\n",
       "      <td>3726</td>\n",
       "      <td>-277342</td>\n",
       "    </tr>\n",
       "    <tr>\n",
       "      <th>11</th>\n",
       "      <td>阿神</td>\n",
       "      <td>400560</td>\n",
       "      <td>2390000</td>\n",
       "      <td>2445609</td>\n",
       "      <td>2273</td>\n",
       "      <td>33375</td>\n",
       "      <td>-2203510</td>\n",
       "    </tr>\n",
       "    <tr>\n",
       "      <th>12</th>\n",
       "      <td>眾量級CROWD</td>\n",
       "      <td>600000</td>\n",
       "      <td>1960000</td>\n",
       "      <td>1402350</td>\n",
       "      <td>2349</td>\n",
       "      <td>38000</td>\n",
       "      <td>-65045</td>\n",
       "    </tr>\n",
       "    <tr>\n",
       "      <th>13</th>\n",
       "      <td>啾啾鞋</td>\n",
       "      <td>320000</td>\n",
       "      <td>1390000</td>\n",
       "      <td>1073065</td>\n",
       "      <td>1257</td>\n",
       "      <td>15003</td>\n",
       "      <td>270905</td>\n",
       "    </tr>\n",
       "    <tr>\n",
       "      <th>14</th>\n",
       "      <td>三原JAPAN</td>\n",
       "      <td>171000</td>\n",
       "      <td>1350000</td>\n",
       "      <td>2151217</td>\n",
       "      <td>1261</td>\n",
       "      <td>6613</td>\n",
       "      <td>-126051</td>\n",
       "    </tr>\n",
       "    <tr>\n",
       "      <th>15</th>\n",
       "      <td>Hello Catie</td>\n",
       "      <td>386300</td>\n",
       "      <td>1060000</td>\n",
       "      <td>829429</td>\n",
       "      <td>908</td>\n",
       "      <td>10119</td>\n",
       "      <td>227048</td>\n",
       "    </tr>\n",
       "    <tr>\n",
       "      <th>16</th>\n",
       "      <td>含羞草</td>\n",
       "      <td>192700</td>\n",
       "      <td>930000</td>\n",
       "      <td>2053193</td>\n",
       "      <td>621</td>\n",
       "      <td>4660</td>\n",
       "      <td>148424</td>\n",
       "    </tr>\n",
       "  </tbody>\n",
       "</table>\n",
       "</div>"
      ],
      "text/plain": [
       "                  頻道名稱    頻道收入      訂閱數  近一週總觀看數  近一週總留言數  近一週總按讚數  近一週觀看成長數\n",
       "0                  蔡淘貴  400000   873000  1420000     1500    37000    267550\n",
       "1                 蔡阿嘎   350000  2460000   800000     1800    13000    116041\n",
       "2   台灣大胃王丁丁/Ding-Ding   220000   752000   580000     2273    10000    568738\n",
       "3                  本本    50000    64400   380000      751     7700   -227756\n",
       "4                阿滴英文   150000  2640000    50000      351     3333    235703\n",
       "5             這群人TGOP   500000  3330000  2900000     2520    30000  -1114973\n",
       "6               Joeman  759353  1910000  2748289     1157    36475     -4533\n",
       "7            古娃娃WawaKu  250000   925000   199390      349     2302     79673\n",
       "8                千千進食中  880000  1520000  1238720     1816    23000    246081\n",
       "9                 白癡公主  270000  1440000  1457186     1122    19533    847308\n",
       "10              the劉沛   143100  1130000   417440      255     3726   -277342\n",
       "11                  阿神  400560  2390000  2445609     2273    33375  -2203510\n",
       "12            眾量級CROWD  600000  1960000  1402350     2349    38000    -65045\n",
       "13                 啾啾鞋  320000  1390000  1073065     1257    15003    270905\n",
       "14             三原JAPAN  171000  1350000  2151217     1261     6613   -126051\n",
       "15         Hello Catie  386300  1060000   829429      908    10119    227048\n",
       "16                 含羞草  192700   930000  2053193      621     4660    148424"
      ]
     },
     "execution_count": 3,
     "metadata": {},
     "output_type": "execute_result"
    }
   ],
   "source": [
    "df"
   ]
  },
  {
   "cell_type": "code",
   "execution_count": 4,
   "metadata": {},
   "outputs": [],
   "source": [
    "X = df[['近一週總觀看數']]\n",
    "Y = df['頻道收入'].values"
   ]
  },
  {
   "cell_type": "code",
   "execution_count": 5,
   "metadata": {},
   "outputs": [
    {
     "data": {
      "text/plain": [
       "Text(0, 0.5, '頻道收入')"
      ]
     },
     "execution_count": 5,
     "metadata": {},
     "output_type": "execute_result"
    },
    {
     "name": "stderr",
     "output_type": "stream",
     "text": [
      "/opt/anaconda3/lib/python3.7/site-packages/matplotlib/backends/backend_agg.py:211: RuntimeWarning: Glyph 36817 missing from current font.\n",
      "  font.set_text(s, 0.0, flags=flags)\n",
      "/opt/anaconda3/lib/python3.7/site-packages/matplotlib/backends/backend_agg.py:211: RuntimeWarning: Glyph 19968 missing from current font.\n",
      "  font.set_text(s, 0.0, flags=flags)\n",
      "/opt/anaconda3/lib/python3.7/site-packages/matplotlib/backends/backend_agg.py:211: RuntimeWarning: Glyph 36913 missing from current font.\n",
      "  font.set_text(s, 0.0, flags=flags)\n",
      "/opt/anaconda3/lib/python3.7/site-packages/matplotlib/backends/backend_agg.py:211: RuntimeWarning: Glyph 32317 missing from current font.\n",
      "  font.set_text(s, 0.0, flags=flags)\n",
      "/opt/anaconda3/lib/python3.7/site-packages/matplotlib/backends/backend_agg.py:211: RuntimeWarning: Glyph 35264 missing from current font.\n",
      "  font.set_text(s, 0.0, flags=flags)\n",
      "/opt/anaconda3/lib/python3.7/site-packages/matplotlib/backends/backend_agg.py:211: RuntimeWarning: Glyph 30475 missing from current font.\n",
      "  font.set_text(s, 0.0, flags=flags)\n",
      "/opt/anaconda3/lib/python3.7/site-packages/matplotlib/backends/backend_agg.py:211: RuntimeWarning: Glyph 25976 missing from current font.\n",
      "  font.set_text(s, 0.0, flags=flags)\n",
      "/opt/anaconda3/lib/python3.7/site-packages/matplotlib/backends/backend_agg.py:180: RuntimeWarning: Glyph 36817 missing from current font.\n",
      "  font.set_text(s, 0, flags=flags)\n",
      "/opt/anaconda3/lib/python3.7/site-packages/matplotlib/backends/backend_agg.py:180: RuntimeWarning: Glyph 19968 missing from current font.\n",
      "  font.set_text(s, 0, flags=flags)\n",
      "/opt/anaconda3/lib/python3.7/site-packages/matplotlib/backends/backend_agg.py:180: RuntimeWarning: Glyph 36913 missing from current font.\n",
      "  font.set_text(s, 0, flags=flags)\n",
      "/opt/anaconda3/lib/python3.7/site-packages/matplotlib/backends/backend_agg.py:180: RuntimeWarning: Glyph 32317 missing from current font.\n",
      "  font.set_text(s, 0, flags=flags)\n",
      "/opt/anaconda3/lib/python3.7/site-packages/matplotlib/backends/backend_agg.py:180: RuntimeWarning: Glyph 35264 missing from current font.\n",
      "  font.set_text(s, 0, flags=flags)\n",
      "/opt/anaconda3/lib/python3.7/site-packages/matplotlib/backends/backend_agg.py:180: RuntimeWarning: Glyph 30475 missing from current font.\n",
      "  font.set_text(s, 0, flags=flags)\n",
      "/opt/anaconda3/lib/python3.7/site-packages/matplotlib/backends/backend_agg.py:180: RuntimeWarning: Glyph 25976 missing from current font.\n",
      "  font.set_text(s, 0, flags=flags)\n",
      "/opt/anaconda3/lib/python3.7/site-packages/matplotlib/backends/backend_agg.py:211: RuntimeWarning: Glyph 38971 missing from current font.\n",
      "  font.set_text(s, 0.0, flags=flags)\n",
      "/opt/anaconda3/lib/python3.7/site-packages/matplotlib/backends/backend_agg.py:211: RuntimeWarning: Glyph 36947 missing from current font.\n",
      "  font.set_text(s, 0.0, flags=flags)\n",
      "/opt/anaconda3/lib/python3.7/site-packages/matplotlib/backends/backend_agg.py:211: RuntimeWarning: Glyph 25910 missing from current font.\n",
      "  font.set_text(s, 0.0, flags=flags)\n",
      "/opt/anaconda3/lib/python3.7/site-packages/matplotlib/backends/backend_agg.py:211: RuntimeWarning: Glyph 20837 missing from current font.\n",
      "  font.set_text(s, 0.0, flags=flags)\n",
      "/opt/anaconda3/lib/python3.7/site-packages/matplotlib/backends/backend_agg.py:180: RuntimeWarning: Glyph 38971 missing from current font.\n",
      "  font.set_text(s, 0, flags=flags)\n",
      "/opt/anaconda3/lib/python3.7/site-packages/matplotlib/backends/backend_agg.py:180: RuntimeWarning: Glyph 36947 missing from current font.\n",
      "  font.set_text(s, 0, flags=flags)\n",
      "/opt/anaconda3/lib/python3.7/site-packages/matplotlib/backends/backend_agg.py:180: RuntimeWarning: Glyph 25910 missing from current font.\n",
      "  font.set_text(s, 0, flags=flags)\n",
      "/opt/anaconda3/lib/python3.7/site-packages/matplotlib/backends/backend_agg.py:180: RuntimeWarning: Glyph 20837 missing from current font.\n",
      "  font.set_text(s, 0, flags=flags)\n"
     ]
    },
    {
     "data": {
      "image/png": "[encoded data removed]",
      "text/plain": [
       "<Figure size 432x288 with 1 Axes>"
      ]
     },
     "metadata": {},
     "output_type": "display_data"
    }
   ],
   "source": [
    "plt.scatter(X,Y)\n",
    "plt.xlabel('近一週總觀看數')\n",
    "plt.ylabel('頻道收入')"
   ]
  },
  {
   "cell_type": "code",
   "execution_count": 6,
   "metadata": {},
   "outputs": [],
   "source": [
    "from sklearn.linear_model import LinearRegression\n",
    "\n",
    "clf = LinearRegression()"
   ]
  },
  {
   "cell_type": "code",
   "execution_count": 7,
   "metadata": {},
   "outputs": [
    {
     "data": {
      "text/plain": [
       "LinearRegression(copy_X=True, fit_intercept=True, n_jobs=None, normalize=False)"
      ]
     },
     "execution_count": 7,
     "metadata": {},
     "output_type": "execute_result"
    }
   ],
   "source": [
    "clf.fit(X, Y)"
   ]
  },
  {
   "cell_type": "code",
   "execution_count": 8,
   "metadata": {},
   "outputs": [
    {
     "data": {
      "text/plain": [
       "201440.61355776383"
      ]
     },
     "execution_count": 8,
     "metadata": {},
     "output_type": "execute_result"
    }
   ],
   "source": [
    "clf.coef_\n",
    "clf.intercept_"
   ]
  },
  {
   "cell_type": "code",
   "execution_count": 9,
   "metadata": {},
   "outputs": [
    {
     "data": {
      "text/plain": [
       "array([201441.20475613, 201441.7959545 ])"
      ]
     },
     "execution_count": 9,
     "metadata": {},
     "output_type": "execute_result"
    }
   ],
   "source": [
    "clf.predict(np.array([ [5],[10] ]))"
   ]
  },
  {
   "cell_type": "code",
   "execution_count": 10,
   "metadata": {},
   "outputs": [
    {
     "data": {
      "image/png": "[encoded data removed]",
      "text/plain": [
       "<Figure size 432x288 with 1 Axes>"
      ]
     },
     "metadata": {},
     "output_type": "display_data"
    }
   ],
   "source": [
    "plt.scatter(X, Y, color='black')\n",
    "plt.plot(X, clf.predict(X), color='blue', linewidth=3)\n",
    "plt.show()"
   ]
  },
  {
   "cell_type": "code",
   "execution_count": 11,
   "metadata": {},
   "outputs": [],
   "source": [
    "from sklearn.preprocessing import PolynomialFeatures\n",
    "from sklearn.linear_model import LinearRegression\n",
    "poly_reg = PolynomialFeatures(degree=2)\n",
    "X_ = poly_reg.fit_transform(X)"
   ]
  },
  {
   "cell_type": "code",
   "execution_count": 12,
   "metadata": {},
   "outputs": [
    {
     "data": {
      "text/html": [
       "<div>\n",
       "<style scoped>\n",
       "    .dataframe tbody tr th:only-of-type {\n",
       "        vertical-align: middle;\n",
       "    }\n",
       "\n",
       "    .dataframe tbody tr th {\n",
       "        vertical-align: top;\n",
       "    }\n",
       "\n",
       "    .dataframe thead th {\n",
       "        text-align: right;\n",
       "    }\n",
       "</style>\n",
       "<table border=\"1\" class=\"dataframe\">\n",
       "  <thead>\n",
       "    <tr style=\"text-align: right;\">\n",
       "      <th></th>\n",
       "      <th>近一週總觀看數</th>\n",
       "    </tr>\n",
       "  </thead>\n",
       "  <tbody>\n",
       "    <tr>\n",
       "      <th>0</th>\n",
       "      <td>1420000</td>\n",
       "    </tr>\n",
       "    <tr>\n",
       "      <th>1</th>\n",
       "      <td>800000</td>\n",
       "    </tr>\n",
       "    <tr>\n",
       "      <th>2</th>\n",
       "      <td>580000</td>\n",
       "    </tr>\n",
       "    <tr>\n",
       "      <th>3</th>\n",
       "      <td>380000</td>\n",
       "    </tr>\n",
       "    <tr>\n",
       "      <th>4</th>\n",
       "      <td>50000</td>\n",
       "    </tr>\n",
       "  </tbody>\n",
       "</table>\n",
       "</div>"
      ],
      "text/plain": [
       "   近一週總觀看數\n",
       "0  1420000\n",
       "1   800000\n",
       "2   580000\n",
       "3   380000\n",
       "4    50000"
      ]
     },
     "execution_count": 12,
     "metadata": {},
     "output_type": "execute_result"
    }
   ],
   "source": [
    "X.head()\n"
   ]
  },
  {
   "cell_type": "code",
   "execution_count": 13,
   "metadata": {},
   "outputs": [
    {
     "data": {
      "text/plain": [
       "array([[1.0000e+00, 1.4200e+06, 2.0164e+12],\n",
       "       [1.0000e+00, 8.0000e+05, 6.4000e+11],\n",
       "       [1.0000e+00, 5.8000e+05, 3.3640e+11]])"
      ]
     },
     "execution_count": 13,
     "metadata": {},
     "output_type": "execute_result"
    }
   ],
   "source": [
    "X_[0:3,:]"
   ]
  },
  {
   "cell_type": "code",
   "execution_count": 14,
   "metadata": {},
   "outputs": [
    {
     "data": {
      "text/plain": [
       "LinearRegression(copy_X=True, fit_intercept=True, n_jobs=None, normalize=False)"
      ]
     },
     "execution_count": 14,
     "metadata": {},
     "output_type": "execute_result"
    }
   ],
   "source": [
    "regr = LinearRegression()\n",
    "regr.fit(X_, Y)"
   ]
  },
  {
   "cell_type": "code",
   "execution_count": 15,
   "metadata": {},
   "outputs": [
    {
     "data": {
      "image/png": "[encoded data removed]",
      "text/plain": [
       "<Figure size 432x288 with 1 Axes>"
      ]
     },
     "metadata": {},
     "output_type": "display_data"
    }
   ],
   "source": [
    "plt.scatter(X, Y, color='black')\n",
    "poly = PolynomialFeatures(degree=2)\n",
    "X2 = X.sort_values(['近一週總觀看數'])\n",
    "X2_ = poly.fit_transform(X2)\n",
    "plt.plot(X2, regr.predict(X2_), linewidth = 5, color=\"blue\")\n",
    "plt.show()"
   ]
  },
  {
   "cell_type": "code",
   "execution_count": null,
   "metadata": {},
   "outputs": [],
   "source": []
  }
 ],
 "metadata": {
  "kernelspec": {
   "display_name": "Python 3",
   "language": "python",
   "name": "python3"
  },
  "language_info": {
   "codemirror_mode": {
    "name": "ipython",
    "version": 3
   },
   "file_extension": ".py",
   "mimetype": "text/x-python",
   "name": "python",
   "nbconvert_exporter": "python",
   "pygments_lexer": "ipython3",
   "version": "3.7.6"
  }
 },
 "nbformat": 4,
 "nbformat_minor": 4
}
