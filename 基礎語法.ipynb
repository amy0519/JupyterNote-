{
 "cells": [
  {
   "cell_type": "code",
   "execution_count": 9,
   "metadata": {},
   "outputs": [],
   "source": [
    "import numpy as np\n",
    "import pandas as pd"
   ]
  },
  {
   "cell_type": "code",
   "execution_count": 10,
   "metadata": {},
   "outputs": [
    {
     "data": {
      "text/plain": [
       "{'A': 10, 'B': 30, 'C': 100}"
      ]
     },
     "execution_count": 10,
     "metadata": {},
     "output_type": "execute_result"
    }
   ],
   "source": [
    "data = {\"A\":10, \"B\":30, \"C\":100}\n",
    "data"
   ]
  },
  {
   "cell_type": "code",
   "execution_count": 14,
   "metadata": {},
   "outputs": [
    {
     "data": {
      "text/plain": [
       "100"
      ]
     },
     "execution_count": 14,
     "metadata": {},
     "output_type": "execute_result"
    }
   ],
   "source": [
    "data[\"C\"]"
   ]
  },
  {
   "cell_type": "code",
   "execution_count": 15,
   "metadata": {},
   "outputs": [
    {
     "data": {
      "text/plain": [
       "A     10\n",
       "B     30\n",
       "C    100\n",
       "dtype: int64"
      ]
     },
     "execution_count": 15,
     "metadata": {},
     "output_type": "execute_result"
    }
   ],
   "source": [
    "se = pd.Series(data)\n",
    "se"
   ]
  },
  {
   "cell_type": "code",
   "execution_count": 16,
   "metadata": {},
   "outputs": [
    {
     "name": "stdout",
     "output_type": "stream",
     "text": [
      "A     10\n",
      "B     30\n",
      "C    100\n",
      "dtype: int64\n",
      "Index(['A', 'B', 'C'], dtype='object')\n",
      "[ 10  30 100]\n"
     ]
    }
   ],
   "source": [
    "print(se)\n",
    "print(se.index)\n",
    "print(se.values)"
   ]
  },
  {
   "cell_type": "code",
   "execution_count": 21,
   "metadata": {},
   "outputs": [
    {
     "data": {
      "text/plain": [
       "['a', 'b', 'c', 'd', 'e', 'f']"
      ]
     },
     "execution_count": 21,
     "metadata": {},
     "output_type": "execute_result"
    }
   ],
   "source": [
    "list('abcdef')"
   ]
  },
  {
   "cell_type": "code",
   "execution_count": 27,
   "metadata": {},
   "outputs": [
    {
     "name": "stdout",
     "output_type": "stream",
     "text": [
      "a     10\n",
      "b     40\n",
      "c    -20\n",
      "d     30\n",
      "e    100\n",
      "dtype: int64\n",
      "--------------\n",
      "Index(['a', 'b', 'c', 'd', 'e'], dtype='object')\n",
      "--------------\n",
      "[ 10  40 -20  30 100]\n",
      "--------------\n",
      "c    -20\n",
      "d     30\n",
      "e    100\n",
      "dtype: int64\n",
      "--------------\n",
      "b    40\n",
      "c   -20\n",
      "d    30\n",
      "dtype: int64\n"
     ]
    }
   ],
   "source": [
    "data2 = [10, 40, -20, 30, 100]\n",
    "se = pd.Series(data2,index=list('abcde'))\n",
    "\n",
    "print(se)\n",
    "print(\"--------------\")\n",
    "\n",
    "print(se.index)\n",
    "print(\"--------------\")\n",
    "\n",
    "print(se.values)\n",
    "print(\"--------------\")\n",
    "\n",
    "print(se[2:])\n",
    "print(\"--------------\")\n",
    "\n",
    "print(se['b':'d'])"
   ]
  },
  {
   "cell_type": "code",
   "execution_count": 29,
   "metadata": {},
   "outputs": [
    {
     "name": "stdout",
     "output_type": "stream",
     "text": [
      "32.0\n",
      "--------------\n",
      "100\n",
      "--------------\n",
      "count      5.000000\n",
      "mean      32.000000\n",
      "std       44.384682\n",
      "min      -20.000000\n",
      "25%       10.000000\n",
      "50%       30.000000\n",
      "75%       40.000000\n",
      "max      100.000000\n",
      "dtype: float64\n",
      "--------------\n",
      "5\n",
      "--------------\n",
      "5\n"
     ]
    }
   ],
   "source": [
    "print(se.mean())\n",
    "print(\"--------------\")\n",
    "\n",
    "print(se.max())\n",
    "print(\"--------------\")\n",
    "\n",
    "print(se.describe())\n",
    "print(\"--------------\")\n",
    "\n",
    "print(se.count())\n",
    "print(\"--------------\")\n",
    "\n",
    "print(se.size)"
   ]
  },
  {
   "cell_type": "code",
   "execution_count": null,
   "metadata": {},
   "outputs": [],
   "source": []
  },
  {
   "cell_type": "code",
   "execution_count": null,
   "metadata": {},
   "outputs": [],
   "source": []
  }
 ],
 "metadata": {
  "kernelspec": {
   "display_name": "Python 3",
   "language": "python",
   "name": "python3"
  },
  "language_info": {
   "codemirror_mode": {
    "name": "ipython",
    "version": 3
   },
   "file_extension": ".py",
   "mimetype": "text/x-python",
   "name": "python",
   "nbconvert_exporter": "python",
   "pygments_lexer": "ipython3",
   "version": "3.7.4"
  }
 },
 "nbformat": 4,
 "nbformat_minor": 2
}
